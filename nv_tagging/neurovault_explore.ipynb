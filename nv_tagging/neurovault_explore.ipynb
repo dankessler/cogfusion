{
 "cells": [
  {
   "cell_type": "code",
   "execution_count": 254,
   "metadata": {
    "collapsed": false
   },
   "outputs": [],
   "source": [
    "import numpy as np\n",
    "import pandas as pd\n",
    "import matplotlib.pyplot as plt\n",
    "%matplotlib inline\n",
    "import seaborn as sns\n",
    "import subprocess"
   ]
  },
  {
   "cell_type": "code",
   "execution_count": 2,
   "metadata": {
    "collapsed": false
   },
   "outputs": [
    {
     "name": "stdout",
     "output_type": "stream",
     "text": [
      "2016-09-06-neurovault_metadata.csv all_tasks.rdf\r\n",
      "2016-09-06-pyneurovault.ipynb      all_tasks_parsed.txt\r\n",
      "Untitled.ipynb                     cogatlas_explore.ipynb\r\n",
      "all_concepts.rdf\r\n"
     ]
    }
   ],
   "source": [
    "!ls"
   ]
  },
  {
   "cell_type": "code",
   "execution_count": 156,
   "metadata": {
    "collapsed": false
   },
   "outputs": [
    {
     "data": {
      "text/plain": [
       "(14228, 132)"
      ]
     },
     "execution_count": 156,
     "metadata": {},
     "output_type": "execute_result"
    }
   ],
   "source": [
    "df = pd.read_csv('2016-09-06-neurovault_metadata.csv')\n",
    "df.shape"
   ]
  },
  {
   "cell_type": "code",
   "execution_count": 7,
   "metadata": {
    "collapsed": false
   },
   "outputs": [],
   "source": [
    "wh_cogatlas = [c for c in df.columns if 'cogatlas' in c]"
   ]
  },
  {
   "cell_type": "code",
   "execution_count": 221,
   "metadata": {
    "collapsed": false
   },
   "outputs": [
    {
     "data": {
      "text/plain": [
       "[(87, 'add_date'),\n",
       " (88, 'analysis_level'),\n",
       " (89, 'brain_coverage'),\n",
       " (90, 'brainpedia_labels'),\n",
       " (91, 'brainpedia_study'),\n",
       " (92, 'cognitive_contrast_cogatlas'),\n",
       " (93, 'cognitive_contrast_cogatlas_id'),\n",
       " (94, 'cognitive_paradigm_cogatlas'),\n",
       " (95, 'cognitive_paradigm_cogatlas_id'),\n",
       " (96, 'cognitive_paradigm_description_url'),\n",
       " (97, 'collection'),\n",
       " (98, 'collection_id'),\n",
       " (99, 'contrast_definition'),\n",
       " (100, 'contrast_definition_cogatlas'),\n",
       " (101, 'custom_prop'),\n",
       " (102, 'data'),\n",
       " (103, 'description'),\n",
       " (104, 'figure'),\n",
       " (105, 'file'),\n",
       " (106, 'file_size'),\n",
       " (107, 'id'),\n",
       " (108, 'image_type'),\n",
       " (109, 'is_thresholded'),\n",
       " (110, 'is_valid'),\n",
       " (111, 'label_description_file'),\n",
       " (112, 'map_type'),\n",
       " (113, 'modality'),\n",
       " (114, 'modify_date'),\n",
       " (115, 'n-back'),\n",
       " (116, 'name'),\n",
       " (117, 'nidm_results'),\n",
       " (118, 'nidm_results_ttl'),\n",
       " (119, 'not_mni'),\n",
       " (120, 'number_of_subjects'),\n",
       " (121, 'perc_bad_voxels'),\n",
       " (122, 'perc_voxels_outside'),\n",
       " (123, 'random_property_1'),\n",
       " (124, 'random_property_2'),\n",
       " (125, 'reduced_representation'),\n",
       " (126, 'smoothness_fwhm'),\n",
       " (127, 'statistic_parameters'),\n",
       " (128, 'task'),\n",
       " (129, 'thumbnail'),\n",
       " (130, 'type'),\n",
       " (131, 'url')]"
      ]
     },
     "execution_count": 221,
     "metadata": {},
     "output_type": "execute_result"
    }
   ],
   "source": [
    "[(n,c) for n,c in enumerate(df.columns) if not str.isupper(c[0])]"
   ]
  },
  {
   "cell_type": "code",
   "execution_count": 42,
   "metadata": {
    "collapsed": false
   },
   "outputs": [
    {
     "data": {
      "image/png": "[encoded data removed]",
      "text/plain": [
       "<matplotlib.figure.Figure at 0x118526fd0>"
      ]
     },
     "metadata": {},
     "output_type": "display_data"
    }
   ],
   "source": [
    "_ = sns.distplot(df.groupby('cognitive_contrast_cogatlas_id')['id'].count(), kde=False)"
   ]
  },
  {
   "cell_type": "code",
   "execution_count": 48,
   "metadata": {
    "collapsed": false
   },
   "outputs": [
    {
     "name": "stdout",
     "output_type": "stream",
     "text": [
      "nan\n",
      "fMRI-BOLD\n",
      "Structural MRI\n",
      "Other\n",
      "fMRI-CBV\n",
      "MEG\n",
      "Diffusion MRI\n",
      "fMRI-CBF\n",
      "EEG\n",
      "PET other\n",
      "PET FDG\n"
     ]
    }
   ],
   "source": [
    "for i in df['modality'].unique():\n",
    "    print i"
   ]
  },
  {
   "cell_type": "code",
   "execution_count": 66,
   "metadata": {
    "collapsed": false,
    "scrolled": true
   },
   "outputs": [],
   "source": [
    "df = df.drop(np.where(df['modality'] != 'fMRI-BOLD')[0])"
   ]
  },
  {
   "cell_type": "code",
   "execution_count": 67,
   "metadata": {
    "collapsed": false
   },
   "outputs": [
    {
     "data": {
      "text/plain": [
       "(9640, 132)"
      ]
     },
     "execution_count": 67,
     "metadata": {},
     "output_type": "execute_result"
    }
   ],
   "source": [
    "df.shape"
   ]
  },
  {
   "cell_type": "code",
   "execution_count": 80,
   "metadata": {
    "collapsed": false
   },
   "outputs": [
    {
     "data": {
      "text/plain": [
       "map_type\n",
       "F map                              17\n",
       "P map (given null hypothesis)     146\n",
       "ROI/mask                          238\n",
       "T map                            1505\n",
       "Z map                            2519\n",
       "anatomical                         25\n",
       "multivariate-beta map              56\n",
       "other                            1044\n",
       "parcellation                       66\n",
       "univariate-beta map              4914\n",
       "Name: modality, dtype: int64"
      ]
     },
     "execution_count": 80,
     "metadata": {},
     "output_type": "execute_result"
    }
   ],
   "source": [
    "df.groupby('map_type')['modality'].count()"
   ]
  },
  {
   "cell_type": "code",
   "execution_count": 82,
   "metadata": {
    "collapsed": false
   },
   "outputs": [],
   "source": [
    "xt = pd.crosstab(df['modality'], df['map_type'])"
   ]
  },
  {
   "cell_type": "code",
   "execution_count": 322,
   "metadata": {
    "collapsed": false
   },
   "outputs": [
    {
     "data": {
      "text/plain": [
       "(14228, 132)"
      ]
     },
     "execution_count": 322,
     "metadata": {},
     "output_type": "execute_result"
    }
   ],
   "source": [
    "nv = pd.read_csv('2016-09-06-neurovault_metadata.csv')\n",
    "nv.shape"
   ]
  },
  {
   "cell_type": "code",
   "execution_count": 329,
   "metadata": {
    "collapsed": false
   },
   "outputs": [
    {
     "name": "stdout",
     "output_type": "stream",
     "text": [
      "T map\n",
      "Z map\n",
      "other\n",
      "anatomical\n",
      "parcellation\n",
      "P map (given null hypothesis)\n",
      "F map\n",
      "ROI/mask\n",
      "nan\n",
      "univariate-beta map\n",
      "multivariate-beta map\n"
     ]
    }
   ],
   "source": [
    "for i in nv.map_type.unique():\n",
    "    print i"
   ]
  },
  {
   "cell_type": "code",
   "execution_count": null,
   "metadata": {
    "collapsed": true
   },
   "outputs": [],
   "source": [
    "nv['map_type'].isin(['T map', 'Z map'])"
   ]
  },
  {
   "cell_type": "code",
   "execution_count": 313,
   "metadata": {
    "collapsed": false
   },
   "outputs": [],
   "source": [
    "wh_labeled = []\n",
    "wh_labeled.append(nv['cognitive_contrast_cogatlas'].isnull())\n",
    "wh_labeled.append(nv['cognitive_contrast_cogatlas'] == 'Other')\n",
    "wh_labeled.append(nv['cognitive_contrast_cogatlas'] == 'None / Other')\n",
    "wh_labeled.append(nv['modality'] != 'fMRI-BOLD')\n",
    "wh_labeled.append(nv['map_type'].str.contains('map') == False)\n",
    "wh_labeled.append(nv['map_type'])"
   ]
  },
  {
   "cell_type": "code",
   "execution_count": null,
   "metadata": {
    "collapsed": true
   },
   "outputs": [],
   "source": [
    "wh_unlabeled = []\n",
    "wh_unlabeled.append(nv['cognitive_contrast_cogatlas'].isnull())\n",
    "wh_unlabeled.append(nv['cognitive_contrast_cogatlas'] == 'Other')\n",
    "wh_unlabeled.append(nv['cognitive_contrast_cogatlas'] == 'None / Other')\n",
    "wh_unlabeled.append(nv['modality'] == 'fMRI-BOLD')\n",
    "wh_unlabeled.append(nv['map_type'].str.contains('map'))"
   ]
  },
  {
   "cell_type": "code",
   "execution_count": 317,
   "metadata": {
    "collapsed": false
   },
   "outputs": [
    {
     "name": "stdout",
     "output_type": "stream",
     "text": [
      "(451, 132)\n"
     ]
    }
   ],
   "source": [
    "nv_old = nv.copy()\n",
    " = nv.loc[~np.any(np.array(wh_labeled), axis=0), :]\n",
    "print nv.shape"
   ]
  },
  {
   "cell_type": "code",
   "execution_count": 318,
   "metadata": {
    "collapsed": false
   },
   "outputs": [
    {
     "name": "stdout",
     "output_type": "stream",
     "text": [
      "(359, 132)\n"
     ]
    }
   ],
   "source": [
    "nv = nv.drop_duplicates()\n",
    "print nv.shape"
   ]
  },
  {
   "cell_type": "code",
   "execution_count": 319,
   "metadata": {
    "collapsed": false
   },
   "outputs": [
    {
     "data": {
      "text/plain": [
       "'task001_cope06_neg_loss_param.nii.gz'"
      ]
     },
     "execution_count": 319,
     "metadata": {},
     "output_type": "execute_result"
    }
   ],
   "source": [
    "x = nv['file'].iloc[0]\n",
    "x.split('/')[-1]\n",
    "# ${x##*/}"
   ]
  },
  {
   "cell_type": "code",
   "execution_count": 320,
   "metadata": {
    "collapsed": false
   },
   "outputs": [
    {
     "name": "stdout",
     "output_type": "stream",
     "text": [
      "downloading:  task001_cope06_neg_loss_param.nii.gz\n",
      "downloading:  task001_cope04_distance%20from%20indifference.nii.gz\n",
      "downloading:  task001_cope02_parametric%20gain.nii.gz\n",
      "downloading:  task001_cope01_task.nii.gz\n",
      "downloading:  tstatsCashoutsMinusPumpMasked.nii.gz\n",
      "downloading:  Fig3A_zstat1_2.nii.gz\n",
      "downloading:  task001_cope01_pumps_fixed.nii.gz\n",
      "downloading:  task001_cope02_pumps_demean.nii.gz\n",
      "downloading:  task001_cope07_explode_fixed.nii.gz\n",
      "downloading:  task001_cope04_cash_fixed.nii.gz\n",
      "downloading:  task001_cope03_pumps_fixed_real_RT.nii.gz\n",
      "downloading:  task001_cope01_task.nii.gz\n",
      "downloading:  task002_cope02_feedback.nii.gz\n",
      "downloading:  task002_cope01_task.nii.gz\n",
      "downloading:  task003_cope01_classification-probabilistic.nii.gz\n",
      "downloading:  task001_cope02_feedback.nii.gz\n",
      "downloading:  task003_cope02_classification-deterministic.nii.gz\n",
      "downloading:  task002_cope10_succstop_minus_go.nii.gz\n",
      "downloading:  task002_cope08_unsucc_minus_succ_stop.nii.gz\n",
      "downloading:  task002_cope09_go_crit-go_noncrit.nii.gz\n"
     ]
    }
   ],
   "source": [
    "# proc = subprocess.Popen(['/bin/bash'], stdin=subprocess.PIPE, stdout=subprocess.PIPE)\n",
    "!rm -r images\n",
    "!mkdir images\n",
    "n=0\n",
    "for f in nv['file']:\n",
    "#     n=n+1\n",
    "#     if n > 20:\n",
    "#         break\n",
    "    fout = f.split('/')[-1]\n",
    "    print \"downloading: \", fout\n",
    "    subprocess.call('curl %s > images/%s' % (f, fout), shell=True)\n",
    "#     subprocess.call('touch images/%s' % (fout), shell=True)\n",
    "    "
   ]
  },
  {
   "cell_type": "code",
   "execution_count": 321,
   "metadata": {
    "collapsed": false
   },
   "outputs": [
    {
     "name": "stdout",
     "output_type": "stream",
     "text": [
      "IMAGE                                                          DIM1  DIM2  DIM3  DIM4     VOXELS         mm^3\n",
      "images/Fig3A_zstat1_2.nii.gz                                     91   109    91     1     194758   1558064.00\n",
      "images/task001_cope01_pumps_fixed.nii.gz                         91   109    91     1     228397   1827176.00\n",
      "images/task001_cope01_task.nii.gz                                91   109    91     1     228180   1825440.00\n",
      "images/task001_cope02_feedback.nii.gz                            91   109    91     1     228180   1825440.00\n",
      "images/task001_cope02_parametric%20gain.nii.gz                   91   109    91     1     228483   1827864.00\n",
      "images/task001_cope02_pumps_demean.nii.gz                        91   109    91     1     228397   1827176.00\n",
      "images/task001_cope03_pumps_fixed_real_RT.nii.gz                 91   109    91     1     228397   1827176.00\n",
      "images/task001_cope04_cash_fixed.nii.gz                          91   109    91     1     228397   1827176.00\n",
      "images/task001_cope04_distance%20from%20indifference.nii.gz      91   109    91     1     228483   1827864.00\n",
      "images/task001_cope06_neg_loss_param.nii.gz                      91   109    91     1     228483   1827864.00\n",
      "images/task001_cope07_explode_fixed.nii.gz                       91   109    91     1     228397   1827176.00\n",
      "images/task002_cope01_task.nii.gz                                91   109    91     1     228149   1825192.00\n",
      "images/task002_cope02_feedback.nii.gz                            91   109    91     1     228149   1825192.00\n",
      "images/task002_cope08_unsucc_minus_succ_stop.nii.gz              91   109    91     1     228316   1826528.00\n",
      "images/task002_cope09_go_crit-go_noncrit.nii.gz                  91   109    91     1     228316   1826528.00\n",
      "images/task002_cope10_succstop_minus_go.nii.gz                   91   109    91     1     228316   1826528.00\n",
      "images/task003_cope01_classification-probabilistic.nii.gz        91   109    91     1     227937   1823496.00\n",
      "images/task003_cope02_classification-deterministic.nii.gz        91   109    91     1     227937   1823496.00\n",
      "images/tstatsCashoutsMinusPumpMasked.nii.gz                      91   109    91     1     228483   1827864.00\n"
     ]
    }
   ],
   "source": [
    "!lsi images --h -V"
   ]
  }
 ],
 "metadata": {
  "kernelspec": {
   "display_name": "Python 2",
   "language": "python",
   "name": "python2"
  },
  "language_info": {
   "codemirror_mode": {
    "name": "ipython",
    "version": 2
   },
   "file_extension": ".py",
   "mimetype": "text/x-python",
   "name": "python",
   "nbconvert_exporter": "python",
   "pygments_lexer": "ipython2",
   "version": "2.7.12"
  }
 },
 "nbformat": 4,
 "nbformat_minor": 0
}
